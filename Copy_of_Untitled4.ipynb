{
  "nbformat": 4,
  "nbformat_minor": 0,
  "metadata": {
    "colab": {
      "provenance": [],
      "authorship_tag": "ABX9TyObK/42f5o9TjBezG8+bZfZ",
      "include_colab_link": true
    },
    "kernelspec": {
      "name": "python3",
      "display_name": "Python 3"
    },
    "language_info": {
      "name": "python"
    }
  },
  "cells": [
    {
      "cell_type": "markdown",
      "metadata": {
        "id": "view-in-github",
        "colab_type": "text"
      },
      "source": [
        "<a href=\"https://colab.research.google.com/github/idolutz/test/blob/main/Copy_of_Untitled4.ipynb\" target=\"_parent\"><img src=\"https://colab.research.google.com/assets/colab-badge.svg\" alt=\"Open In Colab\"/></a>"
      ]
    },
    {
      "cell_type": "code",
      "execution_count": 68,
      "metadata": {
        "colab": {
          "base_uri": "https://localhost:8080/"
        },
        "id": "NaZejdbLxOfx",
        "outputId": "b703469f-969b-4669-f2b1-7e991f536fbf"
      },
      "outputs": [
        {
          "output_type": "stream",
          "name": "stdout",
          "text": [
            "the temperature in Jerusalem is 13 ,with clear sky , humidity is 72 \n",
            "the date and time are 12/01/23-20:24:44\n"
          ]
        }
      ],
      "source": [
        "import requests\n",
        "import datetime\n",
        "import pytz\n",
        "import json\n",
        "\n",
        "\n",
        "\n",
        "\n",
        "cities_dict={}\n",
        "for location in pytz.all_timezones_set:\n",
        "  current_location=location.split(\"/\")\n",
        "  if len(current_location)>1:\n",
        "    cities_dict[current_location[1]]=current_location[0]\n",
        "\n",
        "\n",
        "\n",
        "\n",
        "def find_time(city='?'):\n",
        "  if city in cities_dict:\n",
        "    region=cities_dict[city]+\"/\"+city\n",
        "    location_time=datetime.datetime.now(pytz.timezone(region))\n",
        "    time_date=location_time.strftime(\"%D-%H:%M:%S\")\n",
        "    return(time_date)\n",
        "  else:\n",
        "    return None\n",
        "\n",
        "#setup your defaults using Json:\n",
        "\n",
        "setup_weather={}\n",
        "setup_weather[\"defigned\"]='London'\n",
        "setup_weather[\"units\"]='Celcius'\n",
        "default_json=json.dumps(setup_weather)\n",
        "\n",
        "with open(\"settings.json\", \"w\") as f:\n",
        "  f.write(default_json)\n",
        "\n",
        "\n",
        "def get_weather(city_name):\n",
        "  with open(\"settings.json\", \"r\") as s:\n",
        "    setting=json.load(s)\n",
        "  if find_time(city_name)==None:\n",
        "    city_name=setting[\"defigned\"]\n",
        "  answer=requests.get(\"https://api.openweathermap.org/data/2.5/weather?q=\"+ city_name +\"&appid=94814cbebb124bd2b491e86f1c0cf054\")\n",
        "  conditions=answer.json()\n",
        "  temp=conditions['main']['temp']\n",
        "  temp=int(temp-273)\n",
        "  if setting[\"units\"]=='Fahrenheit':\n",
        "    temp=int(temp*9/5+32)\n",
        "  weather_feel=conditions['weather'][0]['description']\n",
        "  humidity=conditions['main']['humidity']\n",
        "  print (\"the temperature in\", city_name, \"is\",temp,\",with\",weather_feel, \", humidity is\",humidity,\"\\n\"+\"the date and time are\" , find_time(city_name))\n",
        "\n",
        "\n",
        "get_weather(\"Jerusalem\")\n",
        "\n",
        "\n"
      ]
    },
    {
      "cell_type": "code",
      "source": [],
      "metadata": {
        "id": "JoIN6gF7-QV2"
      },
      "execution_count": null,
      "outputs": []
    },
    {
      "cell_type": "code",
      "source": [],
      "metadata": {
        "id": "dpUmLgbPqhra"
      },
      "execution_count": null,
      "outputs": []
    },
    {
      "cell_type": "code",
      "source": [],
      "metadata": {
        "id": "COPWvhNZqh9t"
      },
      "execution_count": null,
      "outputs": []
    },
    {
      "cell_type": "code",
      "source": [],
      "metadata": {
        "id": "U0YFFs9k-MCQ"
      },
      "execution_count": null,
      "outputs": []
    },
    {
      "cell_type": "code",
      "source": [],
      "metadata": {
        "id": "xA9lYqemIOh5"
      },
      "execution_count": null,
      "outputs": []
    },
    {
      "cell_type": "code",
      "source": [],
      "metadata": {
        "id": "Aw-6mBKjyGVg"
      },
      "execution_count": null,
      "outputs": []
    }
  ]
}